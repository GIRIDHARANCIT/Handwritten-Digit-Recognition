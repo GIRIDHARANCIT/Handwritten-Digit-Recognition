{
 "cells": [
  {
   "cell_type": "markdown",
   "id": "75d93b4e",
   "metadata": {},
   "source": [
    "# 🖋️ Handwritten Digit Recognition – EDA and Training\n",
    "\n",
    "This notebook explores the MNIST dataset and trains a simple neural network to classify handwritten digits."
   ]
  },
  {
   "cell_type": "code",
   "execution_count": null,
   "id": "79bd23a2",
   "metadata": {},
   "outputs": [],
   "source": [
    "\n",
    "# 📌 Import libraries\n",
    "import numpy as np\n",
    "import matplotlib.pyplot as plt\n",
    "import tensorflow as tf\n",
    "from tensorflow.keras import layers, models\n",
    "\n",
    "print(\"TensorFlow version:\", tf.__version__)\n"
   ]
  },
  {
   "cell_type": "code",
   "execution_count": null,
   "id": "0b8d6870",
   "metadata": {},
   "outputs": [],
   "source": [
    "\n",
    "# 📌 Load MNIST dataset\n",
    "(x_train, y_train), (x_test, y_test) = tf.keras.datasets.mnist.load_data()\n",
    "print(\"Training data shape:\", x_train.shape)\n",
    "print(\"Test data shape:\", x_test.shape)\n"
   ]
  },
  {
   "cell_type": "code",
   "execution_count": null,
   "id": "a20d39c3",
   "metadata": {},
   "outputs": [],
   "source": [
    "\n",
    "# 📌 Display sample images\n",
    "plt.figure(figsize=(10, 5))\n",
    "for i in range(10):\n",
    "    plt.subplot(2, 5, i+1)\n",
    "    plt.imshow(x_train[i], cmap='gray')\n",
    "    plt.title(f\"Label: {y_train[i]}\")\n",
    "    plt.axis('off')\n",
    "plt.suptitle(\"Sample MNIST digits\")\n",
    "plt.show()\n"
   ]
  },
  {
   "cell_type": "code",
   "execution_count": null,
   "id": "5e31e80a",
   "metadata": {},
   "outputs": [],
   "source": [
    "\n",
    "# 📌 Check class distribution\n",
    "unique, counts = np.unique(y_train, return_counts=True)\n",
    "for u, c in zip(unique, counts):\n",
    "    print(f\"Digit {u}: {c} samples\")\n"
   ]
  },
  {
   "cell_type": "code",
   "execution_count": null,
   "id": "7cf8ce74",
   "metadata": {},
   "outputs": [],
   "source": [
    "\n",
    "# 📌 Normalize data\n",
    "x_train_norm = x_train / 255.0\n",
    "x_test_norm = x_test / 255.0\n"
   ]
  },
  {
   "cell_type": "code",
   "execution_count": null,
   "id": "94a90e89",
   "metadata": {},
   "outputs": [],
   "source": [
    "\n",
    "# 📌 Build neural network\n",
    "model = models.Sequential([\n",
    "    layers.Flatten(input_shape=(28, 28)),\n",
    "    layers.Dense(128, activation='relu'),\n",
    "    layers.Dropout(0.2),\n",
    "    layers.Dense(10, activation='softmax')\n",
    "])\n",
    "\n",
    "model.compile(optimizer='adam',\n",
    "              loss='sparse_categorical_crossentropy',\n",
    "              metrics=['accuracy'])\n",
    "\n",
    "model.summary()\n"
   ]
  },
  {
   "cell_type": "code",
   "execution_count": null,
   "id": "f794adc2",
   "metadata": {},
   "outputs": [],
   "source": [
    "\n",
    "# 📌 Train the model\n",
    "history = model.fit(\n",
    "    x_train_norm, y_train,\n",
    "    epochs=5,\n",
    "    validation_data=(x_test_norm, y_test)\n",
    ")\n"
   ]
  },
  {
   "cell_type": "code",
   "execution_count": null,
   "id": "22be0e8c",
   "metadata": {},
   "outputs": [],
   "source": [
    "\n",
    "# 📌 Evaluate on test data\n",
    "test_loss, test_acc = model.evaluate(x_test_norm, y_test, verbose=2)\n",
    "print(f\"\\n✅ Test accuracy: {test_acc:.4f}\")\n"
   ]
  },
  {
   "cell_type": "code",
   "execution_count": null,
   "id": "53729768",
   "metadata": {},
   "outputs": [],
   "source": [
    "\n",
    "# 📌 Plot accuracy over epochs\n",
    "plt.plot(history.history['accuracy'], label='Train acc')\n",
    "plt.plot(history.history['val_accuracy'], label='Val acc')\n",
    "plt.title('Accuracy over epochs')\n",
    "plt.xlabel('Epoch')\n",
    "plt.ylabel('Accuracy')\n",
    "plt.legend()\n",
    "plt.show()\n"
   ]
  },
  {
   "cell_type": "code",
   "execution_count": null,
   "id": "482b2601",
   "metadata": {},
   "outputs": [],
   "source": [
    "\n",
    "# 📌 Predict and show some results\n",
    "predictions = model.predict(x_test_norm)\n",
    "\n",
    "plt.figure(figsize=(10, 5))\n",
    "for i in range(5):\n",
    "    plt.subplot(1, 5, i+1)\n",
    "    plt.imshow(x_test[i], cmap='gray')\n",
    "    plt.title(f\"Pred: {np.argmax(predictions[i])}\\nActual: {y_test[i]}\")\n",
    "    plt.axis('off')\n",
    "plt.suptitle(\"Model predictions on test samples\")\n",
    "plt.show()\n"
   ]
  },
  {
   "cell_type": "code",
   "execution_count": null,
   "id": "6afef560",
   "metadata": {},
   "outputs": [],
   "source": [
    "\n",
    "# 📌 Save the model\n",
    "model.save(\"../digit_model.h5\")\n",
    "print(\"✅ Model saved as digit_model.h5\")\n"
   ]
  }
 ],
 "metadata": {},
 "nbformat": 4,
 "nbformat_minor": 5
}
